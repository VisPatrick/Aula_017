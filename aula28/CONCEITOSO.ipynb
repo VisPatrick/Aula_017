{
 "cells": [
  {
   "cell_type": "code",
   "execution_count": null,
   "metadata": {},
   "outputs": [],
   "source": [
    "#   _BIG DATA SCIENCE_ANALISE DE DADOS\n",
    "#   Fundamentos da analise preditiva regressao linear, se baseia em dados historicos para prever o futuro\n",
    "#   Machine Learning - Aprendizado de Maquina, aprende atravez de dados\n",
    "#   Prendizado Supervisionado - dados com saida esperada tem o obejtivo de prever o futuro\n",
    "#   REGRESSAO LINEAR - FUNCAO DE PRIMEIRO GRAU F(Y)= aX + b\n",
    "#   NO PYTHON Y É A VARIAVEL DE DEPENDENCIA X É A VARIAVEL INDEPENDENTE, A coeficiente angular e B é o coeficiente linear\n",
    "#   FAZER UMA CORRELAÇÃO ANTES DE UMA ANALISE PREDITIVA, TEM QUE DAR UMA CORRELAÇÃO FORTE"
   ]
  }
 ],
 "metadata": {
  "language_info": {
   "name": "python"
  },
  "orig_nbformat": 4
 },
 "nbformat": 4,
 "nbformat_minor": 2
}
