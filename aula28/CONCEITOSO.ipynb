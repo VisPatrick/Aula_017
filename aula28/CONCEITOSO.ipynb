{
 "cells": [
  {
   "cell_type": "code",
   "execution_count": 9,
   "metadata": {},
   "outputs": [
    {
     "name": "stdout",
     "output_type": "stream",
     "text": [
      "       cisp  roubo_veiculo  recuperacao_veiculos\n",
      "0         1              5                     5\n",
      "1         4              9                     7\n",
      "2         5             11                    10\n",
      "3         6             27                    77\n",
      "4         7             23                     9\n",
      "...     ...            ...                   ...\n",
      "36350   159              1                     3\n",
      "36351   165              0                     1\n",
      "36352   166              0                     2\n",
      "36353   167              0                     4\n",
      "36354   168              0                     1\n",
      "\n",
      "[36355 rows x 3 columns]\n"
     ]
    }
   ],
   "source": [
    "import pandas as pd\n",
    "import matplotlib.pyplot as plt\n",
    "import numpy as np\n",
    "\n",
    "ENDERECO_DADOS = \"https://www.ispdados.rj.gov.br/Arquivos/BaseDPEvolucaoMensalCisp.csv\"\n",
    "\n",
    "try:\n",
    "    df_ocorrencias = pd.read_csv(ENDERECO_DADOS, sep=\";\", encoding=\"iso-8859-1\")\n",
    "    # print(df_ocorrencias())\n",
    "\n",
    "    df_ocorrencias = df_ocorrencias[['cisp', 'roubo_veiculo', 'recuperacao_veiculos']]\n",
    "    print(df_ocorrencias)\n",
    "\n",
    "    df_total_roubos = df_ocorrencias.groupby(['cisp']).sum(['roubo_veiculo', 'recuperacao_veiculos']).reset_index()\n",
    "except Exception as e:\n",
    "    print(f\"Erro ao conectar ao banco de dados:{e} \")"
   ]
  },
  {
   "cell_type": "code",
   "execution_count": 11,
   "metadata": {},
   "outputs": [],
   "source": [
    "#   Delimitando as variaveis\n",
    "\n",
    "try:\n",
    "    df_veiculos = df_ocorrencias[['cisp', 'roubo_veiculo', 'recuperacao_veiculos']]\n",
    "#   Selecionando as variaveis\n",
    "    df_total_veiculos = df_veiculos.groupby(['cisp']).sum(['roubo_veiculo', 'recuperacao_veiculos']).reset_index()\n",
    "    # print(df_total_veiculos.head(10))\n",
    "except Exception as e:\n",
    "    print(f\"Erro ao processar dados:{e} \")"
   ]
  },
  {
   "cell_type": "code",
   "execution_count": 14,
   "metadata": {},
   "outputs": [
    {
     "name": "stdout",
     "output_type": "stream",
     "text": [
      "correlacao: 0.92\n"
     ]
    }
   ],
   "source": [
    "#   Calculando a Correlação\n",
    "try:\n",
    "    df_total_cut = (\n",
    "        df_total_veiculos[\n",
    "            df_total_veiculos['roubo_veiculo'] < np.percentile(df_total_veiculos['roubo_veiculo'], 95)\n",
    "            ]\n",
    "    )\n",
    "\n",
    "    df_total_veiculos_cut = (\n",
    "        df_total_veiculos[\n",
    "            df_total_veiculos['recuperacao_veiculos'] < np.percentile(df_total_veiculos['recuperacao_veiculos'], 99)\n",
    "        ]\n",
    "    )    \n",
    "\n",
    "#   Arrays\n",
    "    array_roubo_veiculo = np.array(df_total_veiculos_cut['roubo_veiculo'])\n",
    "    array_recuperacao_veiculos = np.array(df_total_veiculos_cut['recuperacao_veiculos'])\n",
    "\n",
    "#   Calculando a correlação\n",
    "    correlacao = np.corrcoef(array_roubo_veiculo, array_recuperacao_veiculos)[0,1]\n",
    "    \n",
    "    print(f'correlacao: {correlacao:.2f}')\n",
    "\n",
    "\n",
    "except Exception as e:\n",
    "    print(f\"Erro ao processar dados:{e}\")\n",
    "    exit()"
   ]
  },
  {
   "cell_type": "code",
   "execution_count": 25,
   "metadata": {},
   "outputs": [
    {
     "name": "stdout",
     "output_type": "stream",
     "text": [
      "\n",
      "Iniciando a regressão linear... \n",
      "\n",
      "Coeficiente de determinação (R²): 0.81\n",
      "Coeficiente angular: 4361.42\n",
      "Coeficiente linear: 3112.73\n"
     ]
    }
   ],
   "source": [
    "#   Aplicando o modelo de regressão linear\n",
    "try:\n",
    "    print('\\nIniciando a regressão linear... ')\n",
    "    from sklearn.model_selection import train_test_split\n",
    "    X_train, X_test, y_train, y_test = train_test_split(\n",
    "        array_roubo_veiculo, #  Variavel independente\n",
    "        array_recuperacao_veiculos, # Variável dependente\n",
    "        test_size=0.2,   # 20% dos dados serão usados para teste e 80% para treino\n",
    "        random_state=42 # Seed para reprodutibilidade\n",
    "    )\n",
    "   \n",
    "    from sklearn.preprocessing import StandardScaler\n",
    "    scaler = StandardScaler()\n",
    "\n",
    "    X_train = scaler.fit_transform(X_train.reshape(-1, 1))\n",
    "\n",
    "    X_test = scaler.transform(X_test.reshape(-1, 1))\n",
    "\n",
    "    from sklearn.linear_model import LinearRegression\n",
    "    model = LinearRegression()\n",
    "    model.fit(X_train, y_train)\n",
    "\n",
    "    r2_score = model.score(X_test, y_test)\n",
    "    print(f'\\nCoeficiente de determinação (R²): {r2_score:.2f}')\n",
    "    print(f'Coeficiente angular: {model.coef_[0]:.2f}')\n",
    "    print(f'Coeficiente linear: {model.intercept_:.2f}')\n",
    "\n",
    "\n",
    "\n",
    "\n",
    "except Exception as e:\n",
    "    print(f\"Erro ao processar dados:{e}\")\n"
   ]
  },
  {
   "cell_type": "code",
   "execution_count": 28,
   "metadata": {},
   "outputs": [
    {
     "name": "stdout",
     "output_type": "stream",
     "text": [
      "\n",
      "Iniciando a previsão... \n",
      "\n",
      "Previsão de recuperação de veículos : [22843.25828419 27962.65770392 37561.53161591]\n"
     ]
    }
   ],
   "source": [
    "#   Previvão\n",
    "\n",
    "try:\n",
    "    print('\\nIniciando a previsão... ')\n",
    "    #   Array de previsão 35000, 43000, 58000\n",
    "    array_roubo_veiculo_pred = np.array([35000, 43000, 58000])\n",
    "    #   Normalizando os dados de entrada\n",
    "    array_roubo_veiculo_pred_scaled = scaler.transform(array_roubo_veiculo_pred.reshape(-1, 1))\n",
    "    #   Fazendo a previsão\n",
    "    recup_pred = model.predict(array_roubo_veiculo_pred_scaled)\n",
    "    print(f'\\nPrevisão de recuperação de veículos : {recup_pred}')\n",
    "except Exception as e:\n",
    "    print(f\"Erro ao processar dados:{e}\")"
   ]
  }
 ],
 "metadata": {
  "kernelspec": {
   "display_name": "Python 3",
   "language": "python",
   "name": "python3"
  },
  "language_info": {
   "codemirror_mode": {
    "name": "ipython",
    "version": 3
   },
   "file_extension": ".py",
   "mimetype": "text/x-python",
   "name": "python",
   "nbconvert_exporter": "python",
   "pygments_lexer": "ipython3",
   "version": "3.11.4"
  },
  "orig_nbformat": 4
 },
 "nbformat": 4,
 "nbformat_minor": 2
}
