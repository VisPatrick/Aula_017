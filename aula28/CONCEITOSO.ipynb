{
 "cells": [
  {
   "cell_type": "code",
   "execution_count": 2,
   "metadata": {},
   "outputs": [
    {
     "name": "stdout",
     "output_type": "stream",
     "text": [
      "       cisp  roubo_veiculo  recuperacao_veiculos\n",
      "0         1              5                     5\n",
      "1         4              9                     7\n",
      "2         5             11                    10\n",
      "3         6             27                    77\n",
      "4         7             23                     9\n",
      "...     ...            ...                   ...\n",
      "36350   159              1                     3\n",
      "36351   165              0                     1\n",
      "36352   166              0                     2\n",
      "36353   167              0                     4\n",
      "36354   168              0                     1\n",
      "\n",
      "[36355 rows x 3 columns]\n"
     ]
    }
   ],
   "source": [
    "import pandas as pd\n",
    "import matplotlib.pyplot as plt\n",
    "import numpy as np\n",
    "\n",
    "ENDERECO_DADOS = \"https://www.ispdados.rj.gov.br/Arquivos/BaseDPEvolucaoMensalCisp.csv\"\n",
    "\n",
    "try:\n",
    "    df_ocorrencias = pd.read_csv(ENDERECO_DADOS, sep=\";\", encoding=\"iso-8859-1\")\n",
    "    # print(df_ocorrencias())\n",
    "\n",
    "    df_ocorrencias = df_ocorrencias[['cisp', 'roubo_veiculo', 'recuperacao_veiculos']]\n",
    "    print(df_ocorrencias)\n",
    "\n",
    "    df_total_roubos = df_ocorrencias.groupby(['cisp']).sum(['roubo_veiculo', 'recuperacao_veiculos']).reset_index()\n",
    "except Exception as e:\n",
    "    print(f\"Erro ao conectar ao banco de dados:{e} \")"
   ]
  },
  {
   "cell_type": "code",
   "execution_count": 3,
   "metadata": {},
   "outputs": [],
   "source": [
    "#   Delimitando as variaveis\n",
    "\n",
    "try:\n",
    "    df_veiculos = df_ocorrencias[['cisp', 'roubo_veiculo', 'recuperacao_veiculos']]\n",
    "#   Selecionando as variaveis\n",
    "    df_total_veiculos = df_veiculos.groupby(['cisp']).sum(['roubo_veiculo', 'recuperacao_veiculos']).reset_index()\n",
    "    # print(df_total_veiculos.head(10))\n",
    "except Exception as e:\n",
    "    print(f\"Erro ao processar dados:{e} \")"
   ]
  },
  {
   "cell_type": "code",
   "execution_count": 4,
   "metadata": {},
   "outputs": [
    {
     "name": "stdout",
     "output_type": "stream",
     "text": [
      "correlacao: 0.24\n"
     ]
    }
   ],
   "source": [
    "#   Calculando a Correlação\n",
    "try:\n",
    "    df_total_cut = (\n",
    "        df_total_veiculos[\n",
    "            df_total_veiculos['roubo_veiculo'] < np.percentile(df_veiculos['roubo_veiculo'], 95)\n",
    "            ]\n",
    "    )\n",
    "\n",
    "    df_total_veiculos_cut = (\n",
    "        df_total_veiculos[\n",
    "            df_total_veiculos['recuperacao_veiculos'] < np.percentile(df_veiculos['recuperacao_veiculos'], 99)\n",
    "        ]\n",
    "    )    \n",
    "\n",
    "#   Arrays\n",
    "    array_roubo_veiculo = np.array(df_total_veiculos_cut['roubo_veiculo'])\n",
    "    array_recuperacao_veiculos = np.array(df_total_veiculos_cut['recuperacao_veiculos'])\n",
    "\n",
    "#   Calculando a correlação\n",
    "    correlacao = np.corrcoef(array_roubo_veiculo, array_recuperacao_veiculos)[0,1]\n",
    "    \n",
    "    print(f'correlacao: {correlacao:.2f}')\n",
    "\n",
    "\n",
    "except Exception as e:\n",
    "    print(f\"Erro ao processar dados:{e}\")\n",
    "    exit()"
   ]
  }
 ],
 "metadata": {
  "kernelspec": {
   "display_name": "Python 3",
   "language": "python",
   "name": "python3"
  },
  "language_info": {
   "codemirror_mode": {
    "name": "ipython",
    "version": 3
   },
   "file_extension": ".py",
   "mimetype": "text/x-python",
   "name": "python",
   "nbconvert_exporter": "python",
   "pygments_lexer": "ipython3",
   "version": "3.11.4"
  },
  "orig_nbformat": 4
 },
 "nbformat": 4,
 "nbformat_minor": 2
}
