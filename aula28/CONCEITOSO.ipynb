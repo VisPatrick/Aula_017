{
 "cells": [
  {
   "cell_type": "code",
   "execution_count": 1,
   "metadata": {},
   "outputs": [
    {
     "name": "stdout",
     "output_type": "stream",
     "text": [
      "       cisp  roubo_veiculo  recuperacao_veiculos\n",
      "0         1              5                     5\n",
      "1         4              9                     7\n",
      "2         5             11                    10\n",
      "3         6             27                    77\n",
      "4         7             23                     9\n",
      "...     ...            ...                   ...\n",
      "36350   159              1                     3\n",
      "36351   165              0                     1\n",
      "36352   166              0                     2\n",
      "36353   167              0                     4\n",
      "36354   168              0                     1\n",
      "\n",
      "[36355 rows x 3 columns]\n"
     ]
    }
   ],
   "source": [
    "import pandas as pd\n",
    "import matplotlib.pyplot as plt\n",
    "import numpy as np\n",
    "\n",
    "ENDERECO_DADOS = \"https://www.ispdados.rj.gov.br/Arquivos/BaseDPEvolucaoMensalCisp.csv\"\n",
    "\n",
    "try:\n",
    "    df_ocorrencias = pd.read_csv(ENDERECO_DADOS, sep=\";\", encoding=\"iso-8859-1\")\n",
    "    # print(df_ocorrencias())\n",
    "\n",
    "    df_ocorrencias = df_ocorrencias[['cisp', 'roubo_veiculo', 'recuperacao_veiculos']]\n",
    "    print(df_ocorrencias)\n",
    "\n",
    "    df_total_roubos = df_ocorrencias.groupby(['cisp']).sum(['roubo_veiculo', 'recuperacao_veiculos']).reset_index()\n",
    "except Exception as e:\n",
    "    print(f\"Erro ao conectar ao banco de dados:{e} \")"
   ]
  },
  {
   "cell_type": "code",
   "execution_count": 2,
   "metadata": {},
   "outputs": [],
   "source": [
    "#   Delimitando as variaveis\n",
    "\n",
    "try:\n",
    "    df_veiculos = df_ocorrencias[['cisp', 'roubo_veiculo', 'recuperacao_veiculos']]\n",
    "#   Selecionando as variaveis\n",
    "    df_total_veiculos = df_veiculos.groupby(['cisp']).sum(['roubo_veiculo', 'recuperacao_veiculos']).reset_index()\n",
    "    # print(df_total_veiculos.head(10))\n",
    "except Exception as e:\n",
    "    print(f\"Erro ao processar dados:{e} \")"
   ]
  },
  {
   "cell_type": "code",
   "execution_count": 3,
   "metadata": {},
   "outputs": [
    {
     "name": "stdout",
     "output_type": "stream",
     "text": [
      "correlacao: 0.92\n"
     ]
    }
   ],
   "source": [
    "#   Calculando a Correlação\n",
    "try:\n",
    "    df_total_cut = (\n",
    "        df_total_veiculos[\n",
    "            df_total_veiculos['roubo_veiculo'] < np.percentile(df_total_veiculos['roubo_veiculo'], 95)\n",
    "            ]\n",
    "    )\n",
    "\n",
    "    df_total_veiculos_cut = (\n",
    "        df_total_veiculos[\n",
    "            df_total_veiculos['recuperacao_veiculos'] < np.percentile(df_total_veiculos['recuperacao_veiculos'], 99)\n",
    "        ]\n",
    "    )    \n",
    "\n",
    "#   Arrays\n",
    "    array_roubo_veiculo = np.array(df_total_veiculos_cut['roubo_veiculo'])\n",
    "    array_recuperacao_veiculos = np.array(df_total_veiculos_cut['recuperacao_veiculos'])\n",
    "\n",
    "#   Calculando a correlação\n",
    "    correlacao = np.corrcoef(array_roubo_veiculo, array_recuperacao_veiculos)[0,1]\n",
    "    \n",
    "    print(f'correlacao: {correlacao:.2f}')\n",
    "\n",
    "\n",
    "except Exception as e:\n",
    "    print(f\"Erro ao processar dados:{e}\")\n",
    "    exit()"
   ]
  },
  {
   "cell_type": "code",
   "execution_count": 4,
   "metadata": {},
   "outputs": [
    {
     "name": "stdout",
     "output_type": "stream",
     "text": [
      "\n",
      "Iniciando a regressão linear... \n",
      "\n",
      "Coeficiente de determinação (R²): 0.81\n",
      "Coeficiente angular: 4361.42\n",
      "Coeficiente linear: 3112.73\n"
     ]
    }
   ],
   "source": [
    "#   Aplicando o modelo de regressão linear\n",
    "try:\n",
    "    print('\\nIniciando a regressão linear... ')\n",
    "    from sklearn.model_selection import train_test_split\n",
    "    X_train, X_test, y_train, y_test = train_test_split(\n",
    "        array_roubo_veiculo, #  Variavel independente\n",
    "        array_recuperacao_veiculos, # Variável dependente\n",
    "        test_size=0.2,   # 20% dos dados serão usados para teste e 80% para treino\n",
    "        random_state=42 # Seed para reprodutibilidade\n",
    "    )\n",
    "   \n",
    "    from sklearn.preprocessing import StandardScaler\n",
    "    scaler = StandardScaler()\n",
    "\n",
    "    X_train = scaler.fit_transform(X_train.reshape(-1, 1))\n",
    "\n",
    "    X_test = scaler.transform(X_test.reshape(-1, 1))\n",
    "\n",
    "    from sklearn.linear_model import LinearRegression\n",
    "    model = LinearRegression()\n",
    "    model.fit(X_train, y_train)\n",
    "\n",
    "    r2_score = model.score(X_test, y_test)\n",
    "    print(f'\\nCoeficiente de determinação (R²): {r2_score:.2f}')\n",
    "    print(f'Coeficiente angular: {model.coef_[0]:.2f}')\n",
    "    print(f'Coeficiente linear: {model.intercept_:.2f}')\n",
    "\n",
    "\n",
    "\n",
    "\n",
    "except Exception as e:\n",
    "    print(f\"Erro ao processar dados:{e}\")\n"
   ]
  },
  {
   "cell_type": "code",
   "execution_count": 5,
   "metadata": {},
   "outputs": [
    {
     "name": "stdout",
     "output_type": "stream",
     "text": [
      "\n",
      "Iniciando a previsão... \n",
      "\n",
      "Previsão de recuperação de veículos : [22843.25828419 27962.65770392 37561.53161591]\n"
     ]
    }
   ],
   "source": [
    "#   Previsão\n",
    "\n",
    "try:\n",
    "    print('\\nIniciando a previsão... ')\n",
    "    #   Array de previsão 35000, 43000, 58000\n",
    "    array_roubo_veiculo_pred = np.array([35000, 43000, 58000])\n",
    "    #   Normalizando os dados de entrada\n",
    "    array_roubo_veiculo_pred_scaled = scaler.transform(array_roubo_veiculo_pred.reshape(-1, 1))\n",
    "    #   Fazendo a previsão\n",
    "    recup_pred = model.predict(array_roubo_veiculo_pred_scaled)\n",
    "    print(f'\\nPrevisão de recuperação de veículos : {recup_pred}')\n",
    "except Exception as e:\n",
    "    print(f\"Erro ao processar dados:{e}\")"
   ]
  },
  {
   "cell_type": "code",
   "execution_count": 8,
   "metadata": {},
   "outputs": [
    {
     "name": "stdout",
     "output_type": "stream",
     "text": [
      "Avaliando o modelo de previsões...\n"
     ]
    }
   ],
   "source": [
    "# AVALIANDO O MODELO\n",
    "\n",
    "# P/ Rodar a Tkinter p/ plotar o painel como no Jupyter\n",
    "import matplotlib\n",
    "matplotlib.use('TkAgg')\n",
    "import seaborn as sns\n",
    "\n",
    "try:\n",
    "    print('Avaliando o modelo de previsões...')\n",
    "\n",
    "    plt.subplots(2, 2, figsize=(15, 5))\n",
    "    plt.suptitle('Avaliação do modelo de regressão')\n",
    "\n",
    "\n",
    "    #### POSIÇÃO 1: Gráfico de Dispersão entre os arrays\n",
    "    # pip install seaborn\n",
    "    plt.subplot(2, 2, 1)\n",
    "\n",
    "    sns.regplot(x=array_roubo_veiculo, y=array_recuperacao_veiculos)\n",
    "    plt.title('Gráfico de dispersão')\n",
    "    plt.xlabel('Roubo de veículos')\n",
    "    plt.ylabel('Recuperação de veículos')\n",
    "\n",
    "    # Posicionar o texto no início do gráfico\n",
    "    plt.text(min(array_roubo_veiculo),\n",
    "             max(array_recuperacao_veiculos),\n",
    "             f'Correlação: {correlacao}',\n",
    "             fontsize=10)\n",
    "\n",
    "\n",
    "    #### POSIÇÃO 2: Gráfico de dispersão entre os dados reais e previsto\n",
    "    plt.subplot(2, 2, 2)\n",
    "\n",
    "    # Testar o modelo preditivo nos dados de X_teste\n",
    "    # Saída na escal original dos dados\n",
    "    y_pred = model.predict(X_test)\n",
    "\n",
    "    # Retornar os dados de teste para escala real\n",
    "    X_test = scaler.inverse_transform(X_test)\n",
    "\n",
    "    # Gráfico de dispersão sem a linha de regressão\n",
    "    plt.scatter(X_test, y_test, color='blue', label='Dados reais')\n",
    "    plt.scatter(X_test, y_pred, color = 'red', label='Previsões')\n",
    "\n",
    "    plt.title('Dados reais x previstos')\n",
    "    plt.xlabel('Roubo de veículos')\n",
    "    plt.ylabel('Recuperações de veículos')\n",
    "\n",
    "    plt.legend()\n",
    "\n",
    "\n",
    "    ##### POSIÇÃO 3: Resíduos\n",
    "    plt.subplot(2, 2, 3)\n",
    "\n",
    "    # RESÍDUOS: Diferença entre valores reais e previstos (y_test - y_pred)\n",
    "    # Análise dos resíduos ajuda a verificar, se o modelo está capturando bem\n",
    "    # os padrões dos dados. \n",
    "    # Bons modelos têm resíduos próximos de 0.\n",
    "    # Os dados devem ser distribuídos aleatoriamente.\n",
    "    # Se tiverem um padrão, o modelo não é confiável\n",
    "    residuos = y_test - y_pred\n",
    "\n",
    "    # plotar em gráfico de dispersão\n",
    "    plt.scatter(y_pred, residuos)\n",
    "\n",
    "    # adicioanar uma linha constante no 0\n",
    "    plt.axhline(y=0, color='black', linewidth=2)\n",
    "\n",
    "    plt.title('Resíduos')\n",
    "    plt.xlabel('Previsões')\n",
    "    plt.ylabel('Resíduos')\n",
    "\n",
    "\n",
    "    #### POSIÇÃO 4: Dispersão dos valores simulados\n",
    "    plt.subplot(2, 2, 4)\n",
    "    \n",
    "    plt.scatter(array_roubo_veiculo_pred, recup_pred)\n",
    "\n",
    "    plt.title('Recuperações de veículos simuladas')\n",
    "    plt.xlabel('Roubo veículo simulado')\n",
    "    plt.ylabel('Recuperação de veículo prevista')\n",
    "\n",
    "    plt.tight_layout()\n",
    "    plt.show()\n",
    "\n",
    "except ImportError as e:\n",
    "    print(\"Erro ao avaliar o modelo: \", e)\n",
    "    exit()"
   ]
  }
 ],
 "metadata": {
  "kernelspec": {
   "display_name": "Python 3",
   "language": "python",
   "name": "python3"
  },
  "language_info": {
   "codemirror_mode": {
    "name": "ipython",
    "version": 3
   },
   "file_extension": ".py",
   "mimetype": "text/x-python",
   "name": "python",
   "nbconvert_exporter": "python",
   "pygments_lexer": "ipython3",
   "version": "3.11.4"
  },
  "orig_nbformat": 4
 },
 "nbformat": 4,
 "nbformat_minor": 2
}
